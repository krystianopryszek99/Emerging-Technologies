{
 "cells": [
  {
   "cell_type": "markdown",
   "id": "315ee58d-a8d9-47cd-8e96-6911b7453007",
   "metadata": {},
   "source": [
    "<center>\n",
    "    <img width=\"700\" src=\"https://miro.medium.com/max/2000/1*Fhw7AOH7e0zL4-ikn5NMGw.png\" />\n",
    "</center>\n",
    "\n",
    "# Quantum-deutsch\n",
    "\n",
    "This notebook contains a clear and consise comparison of [quantum computing](https://en.wikipedia.org/wiki/Quantum_computing#:~:text=Quantum%20computing%20is%20a%20type,and%20entanglement%2C%20to%20perform%20calculations.&text=The%20study%20of%20quantum%20computing%20is%20a%20subfield%20of%20quantum%20information%20science.) and classical computing"
   ]
  },
  {
   "cell_type": "markdown",
   "id": "9f0326fe-f388-4263-b3c3-aa3a0b6b4d49",
   "metadata": {},
   "source": [
    "An explanation of [Deutsch’s algorithm](https://qiskit.org/textbook/ch-algorithms/deutsch-jozsa.html) and code simulating it using [qiskit](https://qiskit.org/)\n",
    "\n",
    "***"
   ]
  },
  {
   "cell_type": "markdown",
   "id": "5c7617f9-cf56-4890-93a8-19ad86d1347a",
   "metadata": {},
   "source": [
    "### Quantum Computing\n",
    "\n",
    "Quantum computing is a sort of computer that uses the collective features of quantum states to execute calculations, such as superposition, interference, and entanglement. Quantum computing makes use of quantum bits, also known as qubits. Qubit can have the value of both 1 and 0 at the same time. Physical systems like as the spin of an electron or the direction of a photon are used to create qubits. These supercomputers are based on the quantum physics concepts of superposition and entanglement. Quantum entanglement allows qubits to be inextricably connected. Quantum algorithms may be more efficient than their classical counterparts in solving certain computer problems.These supercomputers are based on the quantum physics concepts of superposition and entanglement. \n",
    "\n",
    "<center>\n",
    "    <img width=\"500\" src=\"https://miro.medium.com/max/1400/1*jA5nMVXf6jyPB2jYIk_PTQ.png\" />\n",
    "    \n",
    "    Fig 1. Bit and Qubit\n",
    "    \n",
    "</center>\n",
    "\n",
    "<br>\n",
    "\n",
    "Quantum Computing has the potential to make a significant contribution to the fields of machine learching, artificial intelligence and more. some of the most well-known technological companies involved in Quantum Computing such as Microsoft, Intel, IBM, Google and much more. "
   ]
  },
  {
   "cell_type": "markdown",
   "id": "3eee7abd-5ca7-4479-8812-59e67570d3c8",
   "metadata": {},
   "source": [
    "### How does Quantum Computing work?\n",
    "\n",
    "Quantum computers calculate the probability of an object's condition before it is measured. Operations in quantum computing employ an object's quantum state to generate a qubit. Qubits may have many states at once and hold far more data than a single bit. These are the features of an object that are unspecified before they are identified. Quantum computers are based on two fundamental concepts in quantum physics, Superposition and Entanglement. Superposition refers to the ability to exist in numerous states at once. A quantum computer with many qubits in superposition can process a large number of different possible outputs at the same time.\n",
    "Quantum entanglement is a sort of superposition that occurs when two or more qubits are in the same state. When two or more qubits are entangled, a change to one of them can have an effect on the others."
   ]
  },
  {
   "cell_type": "markdown",
   "id": "30bcfef7-33e4-4e91-b7bd-d8f46db0ac94",
   "metadata": {
    "tags": []
   },
   "source": [
    "### Comparison of Quantum Computing and Classical Computing\n",
    "\n",
    "Quantum computers use quantum bits, also known as qubits, to manipulate ones and zeros through operations. Quantum computers employ ones and zeros in the same way as classical computers do, but qubits include a third state called \"superposition\" that enables them to represent a one or a zero at the same time.\n",
    "Classical computers are ideal for doing normal tasks that require the use of a computer. Quantum computers, on the other hand, are ideal for simulations and data analysis.\n",
    "\n",
    "| Quantum Computing | | Classical Computing   |\n",
    "|------|------|------|\n",
    "| Used by multi-purpose computers and gadgets on a big scale  | | High-speed quantum mechanics-based computers use it |\n",
    "| There are just two states that are possible: 0 and 1  | | There are an endless amount of states that might exist |\n",
    "| Boolean Algebra is used to define operations  | | Linear algebra in Hilbert space is used to define operations |\n",
    "| Ideal for activities such as optimization, data analysis, and simulations  | | Classic computers are best suited for most everyday tasks |\n",
    "| Mathematical algorithms are used to encrypt data  | | Quantum characteristics are used to encrypt data |"
   ]
  },
  {
   "cell_type": "markdown",
   "id": "e976c9a3-5c21-44da-aa11-ddae935e0472",
   "metadata": {},
   "source": [
    "# Deutsch's Algorithm\n",
    "\n",
    "***"
   ]
  },
  {
   "cell_type": "markdown",
   "id": "83705ad0-39cd-4432-9e65-9e2cb77f8a34",
   "metadata": {},
   "source": [
    "David Deutsch and Richard Jozsa invented the Deutsch–Jozsa algorithm, a deterministic quantum algorithm. One of the first examples of a quantum algorithm that is quicker than any classical algorithm is Deutsch's Algorithm. \n",
    "\n",
    "In Deutsch’s algorithm problem, we are given an oracle also referred to as a black box quantum computer that implements some function. Deutsch-Jozsa Problem is confirmed to be either balanced or constant. The oracle is then used to determine if $f$ is constant or balanced.\n",
    "\n",
    "### Constant Funtion & Balanced Function\n",
    "The constant function takes in an input and no matter what the input is, it will always output the same result. Given exactly half of all inputs, the balanced function returns 0 and for the other half, it returns 1.\n",
    "\n",
    "Balanced: $f(0) = 0, f(1) = 1$\n",
    "\n",
    "Balanced: $f(0) = 1, f(1) = 0$\n",
    "\n",
    "Constant: $f(0) = 1, f(1) = 1$\n",
    "\n",
    "Constant: $f(0) = 0, f(1) = 0$"
   ]
  },
  {
   "cell_type": "markdown",
   "id": "4b58a19e-87b4-4516-8cfb-73c432c3d4de",
   "metadata": {},
   "source": [
    "<br>\n",
    "\n",
    "### Preliminaries\n",
    "\n",
    "***"
   ]
  },
  {
   "cell_type": "markdown",
   "id": "e8b6c106-0494-4f87-80ea-8120c8ceed82",
   "metadata": {},
   "source": [
    "#### Qubits\n",
    "\n",
    "Qubits are represented by two complex numbers. \n",
    "\n",
    "Both of these conditions are mutually exclusive. The qubit must either produce a 0 or a 1. Two orthogonal vectors are used to express this in mathematics.\n",
    "\n",
    "$|0 \\rangle = \\begin{bmatrix} 1 \\\\ 0 \\end{bmatrix}$\n",
    "\n",
    "$|1 \\rangle = \\begin{bmatrix} 0 \\\\ 1 \\end{bmatrix}$\n",
    "\n",
    "$|\\psi \\rangle = \\begin{bmatrix} \\alpha \\\\ \\beta \\end{bmatrix} =  \\alpha |0 \\rangle + \\beta |1 \\rangle $\n",
    "\n",
    "$\\alpha = a + bi \\qquad \\beta = c + di \\qquad a,b,c,d \\in \\mathbb{R}$\n",
    "\n",
    "Condition that alpha squared plus beta squared has to be equals to one\n",
    "\n",
    "$ \\alpha^2 + \\beta^2 = 1$"
   ]
  },
  {
   "cell_type": "markdown",
   "id": "5c924759-653b-4ba4-826e-59ded1fd5844",
   "metadata": {},
   "source": [
    "<br>\n",
    "\n",
    "#### Gates\n",
    "\n",
    "***"
   ]
  },
  {
   "cell_type": "markdown",
   "id": "e5fb7ae5-263c-4f44-877f-009c960ca7fa",
   "metadata": {},
   "source": [
    "##### Hadamard gate\n",
    "Hadamard gate is a fundemental gate in Deutsch Algorithm. It's a single qubit and it creats a superpositions of: $| 0 \\rangle$ and $| 1 \\rangle$. Qubit passes through the gate, and then is in both states: 1 and 0. \n",
    "\n",
    "<center>\n",
    "    <img width=\"200\" src=\"https://miro.medium.com/max/345/1*pJeSr5Bq3l9iWjr9aBEGLQ.png\" />\n",
    "    \n",
    "    Fig 2. Hadamard gate is represented as this symbol.\n",
    "</center>\n",
    "\n",
    "*Hadamard matrix*\n",
    "\n",
    "$ H = \\begin{bmatrix} \\frac{1}{\\sqrt{2}} & \\frac{1}{\\sqrt{2}} \\\\ \\frac{1}{\\sqrt{2}} & -\\frac{1}{\\sqrt{2}} \\end{bmatrix} = \\frac{1}{\\sqrt{2}} \\begin{bmatrix} 1 & 1 \\\\ 1 & -1 \\end{bmatrix}$\n",
    "\n",
    "*We can see that being performed below:*\n",
    "\n",
    "$ H | 0 \\rangle = \\frac{1}{\\sqrt{2}} \\begin{bmatrix} 1 & 1 \\\\ 1 & -1 \\end{bmatrix} \\begin{bmatrix} 1 \\\\ 0 \\end{bmatrix} = \\frac{1}{\\sqrt{2}} \\begin{bmatrix} 1 \\\\ 1 \\end{bmatrix} =  \\begin{bmatrix} \\frac{1}{\\sqrt{2}} \\\\ \\frac{1}{\\sqrt{2}} \\end{bmatrix} = |+\\rangle $\n",
    "\n",
    "$ H | 1 \\rangle = \\frac{1}{\\sqrt{2}} \\begin{bmatrix} 1 & 1 \\\\ 1 & -1 \\end{bmatrix} \\begin{bmatrix} 0 \\\\ 1 \\end{bmatrix} = \\frac{1}{\\sqrt{2}} \\begin{bmatrix} 1 \\\\ -1 \\end{bmatrix} =  \\begin{bmatrix} \\frac{1}{\\sqrt{2}} \\\\ -\\frac{1}{\\sqrt{2}} \\end{bmatrix} = |-\\rangle $\n",
    "\n",
    "*Condition that makes matrix valid gate*\n",
    "\n",
    "$H^* = H^{-1}$\n",
    "\n",
    "*Conjugate of an entry*\n",
    "\n",
    "$(a+bi)^* = a-bi$\n",
    "\n",
    "*Identity matrix also known as I-gate, this gate does nothing.* \n",
    "\n",
    "$ I = \\begin{bmatrix} 1 & 0 \\\\ 0 & 1 \\end{bmatrix} $"
   ]
  },
  {
   "cell_type": "markdown",
   "id": "071aa230-c718-4732-8c50-edfd159067f6",
   "metadata": {},
   "source": [
    "<br>\n",
    "\n",
    "#### Measurement\n",
    "\n",
    "***\n",
    "\n",
    "Measurement is the operation that is performed on Qubits at the end of a circuit to get the Qubit's final values after the operations have been completed. Quantum measurement reduces the quantum state in an irreversible process. In general, operators can represent the measurements.\n",
    "\n",
    "<center>\n",
    "    <img width=\"200\" src=\"https://miro.medium.com/max/552/1*u_KjpvpvRztY-QP5tQJOTw.png\" />\n",
    "    \n",
    "    Fig 3. Measurement is represented as this symbol.\n",
    "</center>"
   ]
  },
  {
   "cell_type": "markdown",
   "id": "bcba6b59-9ada-414c-8420-f302a786c6d6",
   "metadata": {},
   "source": [
    "$ |\\psi \\rangle = \\begin{bmatrix} \\alpha \\\\ \\beta \\end{bmatrix} \\Leftrightarrow \\langle \\psi | = \\begin{bmatrix} \\alpha^* & \\beta^* \\end{bmatrix} $\n",
    "\n",
    "##### Probability of measuring $|0 \\rangle$ when in $|+ \\rangle$:\n",
    "\n",
    "$|\\langle 0 | + \\rangle |^2 = |\\langle 0 || + \\rangle |^2 = | \\begin{bmatrix} 1 & 0 \\end{bmatrix} \\begin{bmatrix} \\frac{1}{\\sqrt{2}} \\\\ \\frac{1}{\\sqrt{2}} \\end{bmatrix} |^2 = |(1)(\\frac{1}{\\sqrt{2}}) + (0)(\\frac{1}{\\sqrt{2}})|^2 = (\\frac{1}{\\sqrt{2}})^2 = \\frac{1}{2}$\n",
    "\n",
    "$|a+bi| = \\sqrt{(a+bi)(a-bi)} = \\sqrt{a^2 + b^2}$\n",
    "\n",
    "##### Probability of measuring $|1 \\rangle$ when in $| - \\rangle$:\n",
    "\n",
    "$|\\langle 1 | - \\rangle |^2 = |\\langle 1 || - \\rangle |^2 = | \\begin{bmatrix} 0 & 1 \\end{bmatrix} \\begin{bmatrix} \\frac{1}{\\sqrt{2}} \\\\ -\\frac{1}{\\sqrt{2}} \\end{bmatrix} |^2 = |(0)(\\frac{1}{\\sqrt{2}}) + (1)(-\\frac{1}{\\sqrt{2}})|^2 = (-\\frac{1}{\\sqrt{2}})^2 = \\frac{1}{2}$\n",
    "    \n",
    "##### Probability of measuring $|1 \\rangle$ when in $|0 \\rangle$:\n",
    "\n",
    "$|\\langle 1 | 0 \\rangle |^2 = = | \\begin{bmatrix} 0 & 1 \\end{bmatrix} \\begin{bmatrix} 1 \\\\ 0 \\end{bmatrix} |^2 = |(0)(1) + (1)(0)|^2 = 0$"
   ]
  },
  {
   "cell_type": "markdown",
   "id": "29658ef8-0228-4bcf-b277-02b7e5ee34f8",
   "metadata": {},
   "source": [
    "<br>\n",
    "\n",
    "#### Multiple qubits\n",
    "\n",
    "***"
   ]
  },
  {
   "cell_type": "markdown",
   "id": "e035a5ef-be74-408b-a725-c68b3ecae709",
   "metadata": {},
   "source": [
    "First qubit: $|0\\rangle = \\begin{bmatrix} 1 \\\\ 0 \\end{bmatrix}$\n",
    "\n",
    "Second qubit: $|1\\rangle = \\begin{bmatrix} 0 \\\\ 1 \\end{bmatrix}$\n",
    "\n",
    "Together: $|01 \\rangle = |0 \\rangle \\bigotimes |1 \\rangle = \\begin{bmatrix} 1 \\begin{bmatrix} 0 \\\\ 1 \\end{bmatrix} \\\\ 0 \\begin{bmatrix} 0 \\\\ 1 \\end{bmatrix} \\end{bmatrix} = \\begin{bmatrix} (1)(0) \\\\ (1)(1) \\\\ (0)(1) \\\\ (0)(0) \\end{bmatrix} = \\begin{bmatrix} 0 \\\\ 1 \\\\ 0 \\\\ 0 \\end{bmatrix}$"
   ]
  },
  {
   "cell_type": "markdown",
   "id": "3cb216e3-ce30-4724-8d23-38527b53c90d",
   "metadata": {},
   "source": [
    "<br>\n",
    "\n",
    "#### CNOT gate\n",
    "\n",
    "***\n",
    "\n",
    "The CNOT Gate is a quantum logic gate that is a key component in the building of a quantum computer based on gates."
   ]
  },
  {
   "cell_type": "markdown",
   "id": "574515d3-8dae-43cc-8746-1fd27a9dc21a",
   "metadata": {},
   "source": [
    "$CNOT = \\begin{bmatrix} 1 & 0 & 0 & 0 \\\\ 0 & 1 & 0 & 0 \\\\ 0 & 0 & 0 & 1 \\\\ 0 & 0 & 1 & 0 \\end{bmatrix} $\n",
    "\n",
    "$CNOT \\times |01 \\rangle = \\begin{bmatrix} 1 & 0 & 0 & 0 \\\\ 0 & 1 & 0 & 0 \\\\ 0 & 0 & 0 & 1 \\\\ 0 & 0 & 1 & 0 \\end{bmatrix} \\begin{bmatrix} 0 \\\\ 1 \\\\ 0 \\\\ 0 \\end{bmatrix} = \\begin{bmatrix} 0 \\\\ 1 \\\\ 0 \\\\ 0 \\end{bmatrix} = |01 \\rangle$\n",
    "\n",
    "$CNOT \\times |10 \\rangle = \\begin{bmatrix} 1 & 0 & 0 & 0 \\\\ 0 & 1 & 0 & 0 \\\\ 0 & 0 & 0 & 1 \\\\ 0 & 0 & 1 & 0 \\end{bmatrix} \\begin{bmatrix} 0 \\\\ 0 \\\\ 1 \\\\ 0 \\end{bmatrix} = \\begin{bmatrix} 0 \\\\ 0 \\\\ 0 \\\\ 1 \\end{bmatrix} = |11 \\rangle$"
   ]
  },
  {
   "cell_type": "markdown",
   "id": "cca51d72-3df6-411d-ac98-78d720f7a0f4",
   "metadata": {},
   "source": [
    "<br>\n",
    "\n",
    "#### Function Oracles\n",
    "\n",
    "***\n",
    "\n",
    "Function Oracle is used as an input or output that we don't know whether the function is hidden, constant or balanced. It is also known as *black box*."
   ]
  },
  {
   "cell_type": "markdown",
   "id": "2d84b823-4de1-4e89-be58-9e77ee1f3f21",
   "metadata": {},
   "source": [
    "$|01 \\rangle = \\begin{bmatrix} 0 \\\\ 1 \\\\ 0 \\\\ 0 \\end{bmatrix} \\begin{matrix} |00 \\rangle \\\\ |01 \\rangle \\\\ |10 \\rangle \\\\ |11 \\rangle \\end{matrix} $\n",
    "\n",
    "##### Balanced: $f(0) = 0$ and $f(1) = 1$\n",
    "\n",
    "$ |x,y \\rangle \\rightarrow |x, y \\oplus f(x) \\rangle $\n",
    "\n",
    "$ \\begin{matrix} |00 \\rangle \\\\ |01 \\rangle \\\\ |10 \\rangle \\\\ |11 \\rangle \\end{matrix} \\rightarrow \\begin{matrix} |00 \\rangle \\\\ |01 \\rangle \\\\ |11 \\rangle \\\\ |10 \\rangle \\end{matrix}$\n",
    "\n",
    "##### Constant: $f(0) = 1$ and $f(1) = 1$\n",
    "\n",
    "$|01 \\rangle = \\begin{bmatrix} 0 \\\\ 1 \\\\ 0 \\\\ 0 \\end{bmatrix} \\begin{matrix} |00 \\rangle \\\\ |01 \\rangle \\\\ |10 \\rangle \\\\ |11 \\rangle \\end{matrix} $\n",
    "\n",
    "$ |x,y \\rangle \\rightarrow |x, y \\oplus f(x) \\rangle $\n",
    "\n",
    "$ \\begin{matrix} |00 \\rangle \\\\ |01 \\rangle \\\\ |10 \\rangle \\\\ |11 \\rangle \\end{matrix} \\rightarrow \\begin{matrix} |01 \\rangle \\\\ |00 \\rangle \\\\ |11 \\rangle \\\\ |10 \\rangle \\end{matrix}$"
   ]
  },
  {
   "cell_type": "markdown",
   "id": "bebe8b11-2131-4b11-9809-89095c6d41b6",
   "metadata": {},
   "source": [
    "# Deutsch's Algorithm Performed Using Qiskit\n",
    "\n",
    "***\n",
    "\n",
    "https://www.qiskit.org/textbook/ch-algorithms/deutsch-jozsa.html\n"
   ]
  },
  {
   "cell_type": "code",
   "execution_count": 1,
   "id": "dc01b45a-1d54-4941-9b4d-071761fc5a7d",
   "metadata": {},
   "outputs": [],
   "source": [
    "# Qiskit \n",
    "import qiskit\n",
    "\n",
    "# Aer simulator\n",
    "import qiskit.providers.aer as aer\n",
    "\n",
    "# Diagrams\n",
    "import matplotlib.pyplot as plt\n",
    "\n",
    "# Random numbers.\n",
    "import random\n",
    "\n",
    "# Change pyplot style\n",
    "plt.style.use('ggplot')\n",
    "\n",
    "from qiskit.tools.visualization import plot_bloch_multivector\n",
    "from qiskit.visualization import plot_histogram"
   ]
  },
  {
   "cell_type": "markdown",
   "id": "b510cf1f-965b-41f9-893c-36233c5384ea",
   "metadata": {},
   "source": [
    "<br>\n",
    "\n",
    "## Constant Zero Function\n",
    "\n",
    "***"
   ]
  },
  {
   "cell_type": "code",
   "execution_count": 2,
   "id": "57c4a3ad-7d79-4438-b4ac-4a52449a1cf3",
   "metadata": {},
   "outputs": [],
   "source": [
    "# Create a quantum circuit\n",
    "circuit = qiskit.QuantumCircuit(2, 1)"
   ]
  },
  {
   "cell_type": "code",
   "execution_count": 3,
   "id": "0276d405-5bd7-4dd1-aec8-d597733fc14e",
   "metadata": {},
   "outputs": [
    {
     "data": {
      "text/plain": [
       "<qiskit.circuit.instructionset.InstructionSet at 0x7f7c2c16b460>"
      ]
     },
     "execution_count": 3,
     "metadata": {},
     "output_type": "execute_result"
    }
   ],
   "source": [
    "# Initialise the first qubit to 0 \n",
    "circuit.initialize([1,0], 0)"
   ]
  },
  {
   "cell_type": "code",
   "execution_count": 4,
   "id": "1b9e0ce9-1d2d-46d7-8b8b-6f5ad621f213",
   "metadata": {},
   "outputs": [
    {
     "data": {
      "text/plain": [
       "<qiskit.circuit.instructionset.InstructionSet at 0x7f7bae65f5e0>"
      ]
     },
     "execution_count": 4,
     "metadata": {},
     "output_type": "execute_result"
    }
   ],
   "source": [
    "# Initialise the second qubit to 1\n",
    "circuit.initialize([0,1], 1)"
   ]
  },
  {
   "cell_type": "code",
   "execution_count": 5,
   "id": "759f6bad-222a-480b-8911-20835302463f",
   "metadata": {},
   "outputs": [
    {
     "data": {
      "text/plain": [
       "<qiskit.circuit.instructionset.InstructionSet at 0x7f7bae65f5b0>"
      ]
     },
     "execution_count": 5,
     "metadata": {},
     "output_type": "execute_result"
    }
   ],
   "source": [
    "# Apply a Hadamard gate to first qubit\n",
    "circuit.h(0)"
   ]
  },
  {
   "cell_type": "code",
   "execution_count": 6,
   "id": "81f08bee-1e47-4ff1-b266-5a94defb4ac9",
   "metadata": {},
   "outputs": [
    {
     "data": {
      "text/plain": [
       "<qiskit.circuit.instructionset.InstructionSet at 0x7f7bae65f970>"
      ]
     },
     "execution_count": 6,
     "metadata": {},
     "output_type": "execute_result"
    }
   ],
   "source": [
    "# Apply a Hadamard gate to second qubit\n",
    "circuit.h(1)"
   ]
  },
  {
   "cell_type": "code",
   "execution_count": 7,
   "id": "eb8b2284-6c31-40c3-b3dd-41c1dddeadf0",
   "metadata": {},
   "outputs": [
    {
     "data": {
      "text/plain": [
       "<qiskit.circuit.instructionset.InstructionSet at 0x7f7bae65fc70>"
      ]
     },
     "execution_count": 7,
     "metadata": {},
     "output_type": "execute_result"
    }
   ],
   "source": [
    "# Identity gate\n",
    "circuit.i(1)"
   ]
  },
  {
   "cell_type": "code",
   "execution_count": 8,
   "id": "2a64d847-40db-4010-b3ca-4a047589985f",
   "metadata": {},
   "outputs": [
    {
     "data": {
      "text/plain": [
       "<qiskit.circuit.instructionset.InstructionSet at 0x7f7bae65fee0>"
      ]
     },
     "execution_count": 8,
     "metadata": {},
     "output_type": "execute_result"
    }
   ],
   "source": [
    "# Apply another Hadamard gate to the first qubit\n",
    "circuit.h(0)"
   ]
  },
  {
   "cell_type": "code",
   "execution_count": 9,
   "id": "f494ba90-676e-4d86-9b97-f68006695657",
   "metadata": {},
   "outputs": [
    {
     "data": {
      "text/plain": [
       "<qiskit.circuit.instructionset.InstructionSet at 0x7f7bae684100>"
      ]
     },
     "execution_count": 9,
     "metadata": {},
     "output_type": "execute_result"
    }
   ],
   "source": [
    "# Measure the first qubit\n",
    "circuit.measure(0,0)"
   ]
  },
  {
   "cell_type": "code",
   "execution_count": 10,
   "id": "5fe007a1-4383-4310-a96c-2f68790f2e24",
   "metadata": {},
   "outputs": [
    {
     "data": {
      "image/png": "[encoded data removed]",
      "text/plain": [
       "<Figure size 589.054x368.424 with 1 Axes>"
      ]
     },
     "execution_count": 10,
     "metadata": {},
     "output_type": "execute_result"
    }
   ],
   "source": [
    "# Draw the circuit\n",
    "circuit.draw(output='mpl', scale=1.8)"
   ]
  },
  {
   "cell_type": "code",
   "execution_count": 11,
   "id": "cd3f6d6d-101b-451f-a6ac-f34837ec7809",
   "metadata": {},
   "outputs": [],
   "source": [
    "# Create a simulation instance\n",
    "simulator = aer.QasmSimulator()"
   ]
  },
  {
   "cell_type": "code",
   "execution_count": 12,
   "id": "5d6aab0c-5c51-4781-b803-a85610fd9ede",
   "metadata": {},
   "outputs": [],
   "source": [
    "# Compile the circuit in the simulator\n",
    "compcircuit = qiskit.transpile(circuit, simulator)"
   ]
  },
  {
   "cell_type": "code",
   "execution_count": 13,
   "id": "8c537b2c-adfc-4a46-ab2d-fc659c421c42",
   "metadata": {},
   "outputs": [],
   "source": [
    "# Simulate the circuit 1000 times\n",
    "job = simulator.run(compcircuit, shots=1000)"
   ]
  },
  {
   "cell_type": "code",
   "execution_count": 14,
   "id": "faf19240-f7f5-4bbd-b7de-8e177d1ea395",
   "metadata": {},
   "outputs": [],
   "source": [
    "# Get the results\n",
    "results = job.result()"
   ]
  },
  {
   "cell_type": "code",
   "execution_count": 15,
   "id": "c475fb00-0ab6-4731-b480-f3ae73312497",
   "metadata": {},
   "outputs": [
    {
     "data": {
      "text/plain": [
       "{'0': 1000}"
      ]
     },
     "execution_count": 15,
     "metadata": {},
     "output_type": "execute_result"
    }
   ],
   "source": [
    "# Show the result\n",
    "counts = results.get_counts()\n",
    "counts"
   ]
  },
  {
   "cell_type": "code",
   "execution_count": 16,
   "id": "671a54d0-d9b7-48c5-b69a-bc3e2d99337b",
   "metadata": {},
   "outputs": [
    {
     "data": {
      "image/png": "[encoded data removed]",
      "text/plain": [
       "<Figure size 72x288 with 1 Axes>"
      ]
     },
     "execution_count": 16,
     "metadata": {},
     "output_type": "execute_result"
    }
   ],
   "source": [
    "# Display histogram\n",
    "qiskit.visualization.plot_histogram(counts, figsize=(1, 4))"
   ]
  },
  {
   "cell_type": "markdown",
   "id": "c6eab4ac-bf5f-44cb-8d2a-ae39811a68cb",
   "metadata": {},
   "source": [
    "<br>\n",
    "\n",
    "## Constant one Function\n",
    "\n",
    "***"
   ]
  },
  {
   "cell_type": "code",
   "execution_count": 17,
   "id": "e6f7ab85-50d9-45f5-aa7c-3aa3f7e88d07",
   "metadata": {},
   "outputs": [
    {
     "data": {
      "image/png": "[encoded data removed]",
      "text/plain": [
       "<Figure size 589.054x368.424 with 1 Axes>"
      ]
     },
     "execution_count": 17,
     "metadata": {},
     "output_type": "execute_result"
    }
   ],
   "source": [
    "# Create a quantum circuit\n",
    "circuit = qiskit.QuantumCircuit(2, 1)\n",
    "\n",
    "# Initialise the first qubit to 0 \n",
    "circuit.initialize([1,0], 0)\n",
    "\n",
    "# Initialise the second qubit to 1\n",
    "circuit.initialize([0,1], 1)\n",
    "\n",
    "# Apply a Hadamard gate to each qubit\n",
    "circuit.h((0, 1))\n",
    "\n",
    "# X gate\n",
    "circuit.x(1)\n",
    "\n",
    "# Apply another Hadamard gate to the first qubit\n",
    "circuit.h(0)\n",
    "\n",
    "# Measure the first qubit\n",
    "circuit.measure(0,0)\n",
    "\n",
    "# Draw the circuit\n",
    "circuit.draw(output='mpl', scale=1.8)"
   ]
  },
  {
   "cell_type": "code",
   "execution_count": 18,
   "id": "dcc14169-363b-4847-be4d-fc169c348f84",
   "metadata": {},
   "outputs": [
    {
     "data": {
      "image/png": "[encoded data removed]",
      "text/plain": [
       "<Figure size 72x288 with 1 Axes>"
      ]
     },
     "execution_count": 18,
     "metadata": {},
     "output_type": "execute_result"
    }
   ],
   "source": [
    "# Create a simulation instance\n",
    "simulator = aer.QasmSimulator()\n",
    "\n",
    "# Compile the circuit in the simulator\n",
    "compcircuit = qiskit.transpile(circuit, simulator)\n",
    "\n",
    "# Simulate the circuit 1000 times\n",
    "job = simulator.run(compcircuit, shots=1000)\n",
    "\n",
    "# Get the results\n",
    "results = job.result()\n",
    "\n",
    "# Show the result\n",
    "counts = results.get_counts()\n",
    "\n",
    "# Display histogram\n",
    "qiskit.visualization.plot_histogram(counts, figsize=(1, 4))"
   ]
  },
  {
   "cell_type": "markdown",
   "id": "e4a6748a-dbc9-491e-9b2b-a78fab2c3ecb",
   "metadata": {},
   "source": [
    "<br> \n",
    "\n",
    "## Balanced: $f(0) = 0, f(1) = 1$\n",
    "\n",
    "***"
   ]
  },
  {
   "cell_type": "code",
   "execution_count": 19,
   "id": "147eab6f-8ea2-41cf-ac64-f03358ae6be5",
   "metadata": {},
   "outputs": [
    {
     "data": {
      "image/png": "[encoded data removed]",
      "text/plain": [
       "<Figure size 697.414x368.424 with 1 Axes>"
      ]
     },
     "execution_count": 19,
     "metadata": {},
     "output_type": "execute_result"
    }
   ],
   "source": [
    "# Create a quantum circuit\n",
    "circuit = qiskit.QuantumCircuit(2, 1)\n",
    "\n",
    "# Initialise the first qubit to 0 \n",
    "circuit.initialize([1,0], 0)\n",
    "\n",
    "# Initialise the second qubit to 1\n",
    "circuit.initialize([0,1], 1)\n",
    "\n",
    "# Apply a Hadamard gate to each qubit\n",
    "circuit.h((0, 1))\n",
    "\n",
    "# CNOT gate\n",
    "circuit.cnot(0, 1)\n",
    "\n",
    "# Apply another Hadamard gate to the first qubit\n",
    "circuit.h(0)\n",
    "\n",
    "# Measure the first qubit\n",
    "circuit.measure(0,0)\n",
    "\n",
    "# Draw the circuit\n",
    "circuit.draw(output='mpl', scale=1.8)"
   ]
  },
  {
   "cell_type": "code",
   "execution_count": 20,
   "id": "0c9399fe-ce23-47e5-8e90-0a8ad1aae8fb",
   "metadata": {},
   "outputs": [
    {
     "data": {
      "image/png": "[encoded data removed]",
      "text/plain": [
       "<Figure size 72x288 with 1 Axes>"
      ]
     },
     "execution_count": 20,
     "metadata": {},
     "output_type": "execute_result"
    }
   ],
   "source": [
    "# Create a simulation instance\n",
    "simulator = aer.QasmSimulator()\n",
    "\n",
    "# Compile the circuit in the simulator\n",
    "compcircuit = qiskit.transpile(circuit, simulator)\n",
    "\n",
    "# Simulate the circuit 1000 times\n",
    "job = simulator.run(compcircuit, shots=1000)\n",
    "\n",
    "# Get the results\n",
    "results = job.result()\n",
    "\n",
    "# Show the result\n",
    "counts = results.get_counts()\n",
    "\n",
    "# Display histogram\n",
    "qiskit.visualization.plot_histogram(counts, figsize=(1, 4))"
   ]
  },
  {
   "cell_type": "markdown",
   "id": "4ccff35d-7792-4622-9dd7-f84ed6c57937",
   "metadata": {},
   "source": [
    "<br> \n",
    "\n",
    "## Balanced: $f(0) = 1, f(1) = 0$\n",
    "\n",
    "***"
   ]
  },
  {
   "cell_type": "code",
   "execution_count": 21,
   "id": "0e91e399-3642-4cb1-8224-189c056e100d",
   "metadata": {},
   "outputs": [
    {
     "data": {
      "image/png": "[encoded data removed]",
      "text/plain": [
       "<Figure size 697.414x368.424 with 1 Axes>"
      ]
     },
     "execution_count": 21,
     "metadata": {},
     "output_type": "execute_result"
    }
   ],
   "source": [
    "# Create a quantum circuit\n",
    "circuit = qiskit.QuantumCircuit(2, 1)\n",
    "\n",
    "# Initialise the first qubit to 0 \n",
    "circuit.initialize([1,0], 0)\n",
    "\n",
    "# Initialise the second qubit to 1\n",
    "circuit.initialize([0,1], 1)\n",
    "\n",
    "# Apply a Hadamard gate to each qubit\n",
    "circuit.h((0, 1))\n",
    "\n",
    "# CNOT gate\n",
    "circuit.cnot(0, 1)\n",
    "\n",
    "# Apply x to second qubit\n",
    "circuit.x(1)\n",
    "\n",
    "# Apply another Hadamard gate to the first qubit\n",
    "circuit.h(0)\n",
    "\n",
    "# Measure the first qubit\n",
    "circuit.measure(0,0)\n",
    "\n",
    "# Draw the circuit\n",
    "circuit.draw(output='mpl', scale=1.8)"
   ]
  },
  {
   "cell_type": "code",
   "execution_count": 22,
   "id": "76fb3312-42d0-4ca0-8fbd-2549a2ec304d",
   "metadata": {},
   "outputs": [
    {
     "data": {
      "image/png": "[encoded data removed]",
      "text/plain": [
       "<Figure size 72x288 with 1 Axes>"
      ]
     },
     "execution_count": 22,
     "metadata": {},
     "output_type": "execute_result"
    }
   ],
   "source": [
    "# Create a simulation instance\n",
    "simulator = aer.QasmSimulator()\n",
    "\n",
    "# Compile the circuit in the simulator\n",
    "compcircuit = qiskit.transpile(circuit, simulator)\n",
    "\n",
    "# Simulate the circuit 1000 times\n",
    "job = simulator.run(compcircuit, shots=1000)\n",
    "\n",
    "# Get the results\n",
    "results = job.result()\n",
    "\n",
    "# Show the result\n",
    "counts = results.get_counts()\n",
    "\n",
    "# Display histogram\n",
    "qiskit.visualization.plot_histogram(counts, figsize=(1, 4))"
   ]
  },
  {
   "cell_type": "markdown",
   "id": "2cb1e235-7eb1-405a-8625-0ca2ce508ef5",
   "metadata": {},
   "source": [
    "# Deutsch's Algorithm with Random Function\n",
    "\n",
    "***"
   ]
  },
  {
   "cell_type": "code",
   "execution_count": 23,
   "id": "0f08873a-794f-4015-934e-a6237a56eb13",
   "metadata": {},
   "outputs": [],
   "source": [
    "# Return a random (part of) circuit - implementing the quantum oracle for f.\n",
    "\n",
    "def random_f():\n",
    "    # Create a circuit with 2 qubits, 1 classical bit.\n",
    "    circuit = qiskit.QuantumCircuit(2, 1)\n",
    "    \n",
    "    # Pick one randomly out of the four functions.\n",
    "    f_number = random.randint(1, 4)\n",
    "    \n",
    "    # 1: Constant 0 function\n",
    "    # 2: Constant 1 function\n",
    "    # 3: Balanced identity function\n",
    "    # 4: Constant not identity function\n",
    "    \n",
    "    # 1: f(0) = f(1) = 0.\n",
    "    if f_number == 1:\n",
    "        circuit.i(1)\n",
    "    # 2: f(0) = f(1) = 1.\n",
    "    elif f_number == 2:\n",
    "        circuit.x(1)\n",
    "    # 3: f(0) = 0, f(1) = 1.\n",
    "    elif f_number == 3:\n",
    "        circuit.cnot(0, 1)\n",
    "    # 4: f(0) = 1, f(1) = 0.\n",
    "    elif f_number == 4:\n",
    "        circuit.cnot(0, 1)\n",
    "        circuit.x(1)\n",
    "    else:\n",
    "        print(\"Error!\")\n",
    "        \n",
    "    # Return the circuit.\n",
    "    return circuit"
   ]
  },
  {
   "cell_type": "markdown",
   "id": "d752fc7f-0af8-4042-8df7-413c67b96b71",
   "metadata": {},
   "source": [
    "<br> \n",
    "\n",
    "## First Part of Circuit\n",
    "\n",
    "***"
   ]
  },
  {
   "cell_type": "code",
   "execution_count": 24,
   "id": "db2fec16-be8b-4a2e-8cac-5988447c97a0",
   "metadata": {},
   "outputs": [
    {
     "data": {
      "image/png": "[encoded data removed]",
      "text/plain": [
       "<Figure size 480.694x368.424 with 1 Axes>"
      ]
     },
     "execution_count": 24,
     "metadata": {},
     "output_type": "execute_result"
    }
   ],
   "source": [
    "# Create a quantum circuit.\n",
    "circuit = qiskit.QuantumCircuit(2, 1)\n",
    "\n",
    "# Initialise the first qubit to |0>.\n",
    "circuit.initialize([1, 0], 0)\n",
    "\n",
    "# Initialise the second qubit to |1>.\n",
    "circuit.initialize([0, 1], 1)\n",
    "\n",
    "# Apply a Hadamard gate to each qubit.\n",
    "circuit.h((0, 1))\n",
    "\n",
    "# Separate parts of circuit.\n",
    "circuit.barrier()\n",
    "\n",
    "# Draw the circuit.\n",
    "circuit.draw(output='mpl', scale=1.8)"
   ]
  },
  {
   "cell_type": "markdown",
   "id": "bab4fb72-5435-440e-9b6c-884a0832e169",
   "metadata": {},
   "source": [
    "<br> \n",
    "\n",
    "## Second Part of Circuit\n",
    "\n",
    "***"
   ]
  },
  {
   "cell_type": "code",
   "execution_count": 25,
   "id": "b398b49e-40f5-427d-8665-ba84c873968f",
   "metadata": {},
   "outputs": [
    {
     "data": {
      "image/png": "[encoded data removed]",
      "text/plain": [
       "<Figure size 697.414x368.424 with 1 Axes>"
      ]
     },
     "execution_count": 25,
     "metadata": {},
     "output_type": "execute_result"
    }
   ],
   "source": [
    "# Append the random_f() circuit to circuit.\n",
    "circuit.compose(random_f(), inplace=True)\n",
    "\n",
    "# Separate parts of circuit.\n",
    "circuit.barrier()\n",
    "\n",
    "# Draw the circuit.\n",
    "circuit.draw(output='mpl', scale=1.8)"
   ]
  },
  {
   "cell_type": "markdown",
   "id": "7a8dcf37-9852-4425-bd80-ac57b8bd0019",
   "metadata": {},
   "source": [
    "<br> \n",
    "\n",
    "## Third Part of Circuit\n",
    "\n",
    "***"
   ]
  },
  {
   "cell_type": "code",
   "execution_count": 26,
   "id": "4bc0b51b-c269-4454-af42-db8d9bd5ca0b",
   "metadata": {},
   "outputs": [
    {
     "data": {
      "image/png": "[encoded data removed]",
      "text/plain": [
       "<Figure size 914.134x368.424 with 1 Axes>"
      ]
     },
     "execution_count": 26,
     "metadata": {},
     "output_type": "execute_result"
    }
   ],
   "source": [
    "# Apply another Hadamard gate to the first qubit.\n",
    "circuit.h(0)\n",
    "\n",
    "# Measure the first qubit.\n",
    "circuit.measure(0, 0)\n",
    "\n",
    "# Draw the circuit.\n",
    "circuit.draw(output='mpl', scale=1.8)"
   ]
  },
  {
   "cell_type": "markdown",
   "id": "7a1caf57-74c1-473d-ab2a-1fd1c0765d8e",
   "metadata": {},
   "source": [
    "<br> \n",
    "\n",
    "## Simulate and decide\n",
    "\n",
    "***"
   ]
  },
  {
   "cell_type": "code",
   "execution_count": 27,
   "id": "9faf128a-6709-444e-91fd-e3d156bf3782",
   "metadata": {},
   "outputs": [
    {
     "data": {
      "image/png": "[encoded data removed]",
      "text/plain": [
       "<Figure size 72x288 with 1 Axes>"
      ]
     },
     "execution_count": 27,
     "metadata": {},
     "output_type": "execute_result"
    }
   ],
   "source": [
    "# Create a simulation instance.\n",
    "simulator = aer.QasmSimulator()\n",
    "\n",
    "# Compile the circuit in the simluator.\n",
    "compcircuit = qiskit.transpile(circuit, simulator)\n",
    "\n",
    "# Simulate the circuit 1000 times.\n",
    "job = simulator.run(compcircuit, shots=1000)\n",
    "\n",
    "# Get the results.\n",
    "results = job.result()\n",
    "\n",
    "# Show the result counts.\n",
    "counts = results.get_counts()\n",
    "\n",
    "# Display histogram\n",
    "qiskit.visualization.plot_histogram(counts, figsize=(1, 4))"
   ]
  },
  {
   "cell_type": "markdown",
   "id": "02d89bcf-0d8a-4efb-9334-c07098848a05",
   "metadata": {},
   "source": [
    "### Results\n",
    "\n",
    "Random function randomly decides one of the 4 functions: *1. Constant 0 function, 2. Constant 1 function, 3. Balanced identity function and 4. Constant not identity function*. Then create the first part of the circuit, the first qubit in state 0, second qubit in state 1 and 2 Hadamard gates one on each. In the second part of the circuit, the random piece is added, and finally which always happens, the Hadamard gate on the last qubit. In the end, simulate the circuit 1000 times and decide whether it's balanced **(1)** or constant **(0)**.\n",
    "\n",
    "### Conclusion\n",
    "\n",
    "After performing the above demonstration, we can tell that Quantum computing can do things more efficiently than a Classical Computer. In Quantum computing it can decide whether it’s constant or balanced by calling the function once whereas in Classical Computer has to call it twice to determine whether the function is constant or balanced. "
   ]
  },
  {
   "cell_type": "markdown",
   "id": "de21410e-9d1d-4b31-91c4-638b3be565ac",
   "metadata": {},
   "source": [
    "### Refrences \n",
    "\n",
    "- [Quantum computing](https://en.wikipedia.org/wiki/Quantum_computing#:~:text=Quantum%20computing%20is%20a%20type,and%20entanglement%2C%20to%20perform%20calculations.&text=The%20study%20of%20quantum%20computing%20is%20a%20subfield%20of%20quantum%20information%20science.)\n",
    "- [Quantum vs Classical Computing](https://www.cbinsights.com/research/quantum-computing-classical-computing-comparison-infographic/)\n",
    "- [Deutsch Algorithm](https://qiskit.org/textbook/ch-algorithms/deutsch-jozsa.html)\n",
    "- [Qiskit](https://qiskit.org/)\n",
    "- [Circuit in qiskit Lab Video](https://web.microsoftstream.com/video/36de0eb8-c03e-40d5-b1c7-d172b1083196)\n",
    "- [Qubits, Gates, and Measurement Lab Video](https://web.microsoftstream.com/video/7868a50b-b8d9-4fcc-a857-ba1615a4a49b)\n",
    "- [Multiple Qubits Lab Video](https://web.microsoftstream.com/video/dce636c4-6ec9-42b1-b5a9-123959dbbcca)\n",
    "- [Random Quantum Functions Lab Video](https://web.microsoftstream.com/video/b547005d-e3a1-4707-860e-16c254ef87bf)\n",
    "- [Hadamard Gate](https://freecontent.manning.com/all-about-hadamard-gates/)\n",
    "- [Multiple Qubits](https://qiskit.org/textbook/ch-gates/multiple-qubits-entangled-states.html)\n",
    "- [CNOT Gate](https://en.wikipedia.org/wiki/Controlled_NOT_gate)\n",
    "- [Function Oracle](https://www.qmunity.tech/tutorials/deutschs-algorithm)"
   ]
  },
  {
   "cell_type": "markdown",
   "id": "517d95f7-d2c1-45ce-885d-edd308764e08",
   "metadata": {},
   "source": [
    "# Images\n",
    "\n",
    "Images were taken from the link below\n",
    "\n",
    "- [Quantum Computing Image](https://medium.com/analytics-vidhya/variational-quantum-eigensolver-from-scratch-finding-ground-state-energy-of-hamiltonian-a5c13d5268f1)\n",
    "- [Bit and Qubit Image](https://towardsdatascience.com/quantum-computing-with-colorful-diagrams-8f7861cfb6da)\n",
    "- [Measurement Image](https://towardsdatascience.com/quantum-computing-with-colorful-diagrams-8f7861cfb6da)\n",
    "- [Hadamard Gate Image](https://towardsdatascience.com/quantum-computing-with-colorful-diagrams-8f7861cfb6da)"
   ]
  },
  {
   "cell_type": "markdown",
   "id": "e12dee99-03b0-483e-9cf4-1ca210f4a141",
   "metadata": {},
   "source": [
    "### End \n",
    "\n",
    "***"
   ]
  }
 ],
 "metadata": {
  "kernelspec": {
   "display_name": "Python 3 (ipykernel)",
   "language": "python",
   "name": "python3"
  },
  "language_info": {
   "codemirror_mode": {
    "name": "ipython",
    "version": 3
   },
   "file_extension": ".py",
   "mimetype": "text/x-python",
   "name": "python",
   "nbconvert_exporter": "python",
   "pygments_lexer": "ipython3",
   "version": "3.9.7"
  }
 },
 "nbformat": 4,
 "nbformat_minor": 5
}
