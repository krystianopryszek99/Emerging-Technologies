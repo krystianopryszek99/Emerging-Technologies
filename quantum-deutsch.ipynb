{
 "cells": [
  {
   "cell_type": "markdown",
   "id": "315ee58d-a8d9-47cd-8e96-6911b7453007",
   "metadata": {},
   "source": [
    "# Quantum-deutsch\n",
    "\n",
    "This notebook contains a clear and consise comparison of [quantum computing](https://en.wikipedia.org/wiki/Quantum_computing#:~:text=Quantum%20computing%20is%20a%20type,and%20entanglement%2C%20to%20perform%20calculations.&text=The%20study%20of%20quantum%20computing%20is%20a%20subfield%20of%20quantum%20information%20science.) and classical computing"
   ]
  },
  {
   "cell_type": "markdown",
   "id": "9f0326fe-f388-4263-b3c3-aa3a0b6b4d49",
   "metadata": {},
   "source": [
    "An explanation of [Deutsch’s algorithm](https://qiskit.org/textbook/ch-algorithms/deutsch-jozsa.html) and code simulating it using [qiskit](https://qiskit.org/)\n",
    "\n",
    "***"
   ]
  },
  {
   "cell_type": "markdown",
   "id": "5c7617f9-cf56-4890-93a8-19ad86d1347a",
   "metadata": {},
   "source": [
    "### Quantum Computing\n",
    "\n",
    "Quantum computing is a sort of computer that uses the collective features of quantum states to execute calculations, such as superposition, interference, and entanglement. Quantum computing makes use of quantum bits, also known as qubits. Qubit can have the value of both 1 and 0 at the same time. Physical systems like as the spin of an electron or the direction of a photon are used to create qubits. These supercomputers are based on the quantum physics concepts of superposition and entanglement. Quantum entanglement allows qubits to be inextricably connected. Quantum algorithms may be more efficient than their classical counterparts in solving certain computer problems.These supercomputers are based on the quantum physics concepts of superposition and entanglement. \n",
    "\n",
    "<center><img width=\"500\" src=\"https://miro.medium.com/max/1400/1*jA5nMVXf6jyPB2jYIk_PTQ.png\" /></center>\n",
    "\n",
    "Quantum Computing has the potential to make a significant contribution to the fields of machine learching, artificial intelligence and more. some of the most well-known technological companies involved in Quantum Computing such as Microsoft, Intel, IBM, Google and much more. "
   ]
  },
  {
   "cell_type": "markdown",
   "id": "3eee7abd-5ca7-4479-8812-59e67570d3c8",
   "metadata": {},
   "source": [
    "### How does Quantum Computing work?\n",
    "\n",
    "Quantum computers calculate the probability of an object's condition before it is measured. Operations in quantum computing employ an object's quantum state to generate a qubit. Qubits may have many states at once and hold far more data than a single bit. These are the features of an object that are unspecified before they are identified. Quantum computers are based on two fundamental concepts in quantum physics, Superposition and Entanglement. Superposition refers to the ability to exist in numerous states at once. A quantum computer with many qubits in superposition can process a large number of different possible outputs at the same time.\n",
    "Quantum entanglement is a sort of superposition that occurs when two or more qubits are in the same state. When two or more qubits are entangled, a change to one of them can have an effect on the others."
   ]
  },
  {
   "cell_type": "markdown",
   "id": "30bcfef7-33e4-4e91-b7bd-d8f46db0ac94",
   "metadata": {
    "tags": []
   },
   "source": [
    "### Comparison of Quantum Computing and Classical Computing\n",
    "\n",
    "Quantum computers uses quantum bits, also known as qubits, to manipulate ones and zeros through operations. Quantum computers employ ones and zeros in the same way as classical computers do, but qubits include a third state called \"superposition\" that enables them to represent a one or a zero at the same time.\n",
    "Classical computers are ideal for doing normal tasks that require the use of a computer. Quantum computers, on the other hand, are ideal for simulations and data analysis.\n",
    "\n",
    "| Quantum Computing | | Classical Computing   |\n",
    "|------|------|------|\n",
    "| Used by multi-purpose computers and gadgets on a big scale  | | High-speed quantum mechanics-based computers use it |\n",
    "| There are just two states that are possible: 0 and 1  | | There are an endless amount of states that might exist |\n",
    "| Boolean Algebra is used to define operations  | | Linear algebra in Hilbert space is used to define operations |\n",
    "| Ideal for activities such as optimization, data analysis, and simulations  | | Classic computers are best suited for most everyday tasks |\n",
    "| Mathematical algorithms are used to encrypt data  | | Quantum characteristics are used to encrypt data |"
   ]
  },
  {
   "cell_type": "markdown",
   "id": "bebe8b11-2131-4b11-9809-89095c6d41b6",
   "metadata": {},
   "source": [
    "# Deutsch's Algorithm\n",
    "\n",
    "https://www.qiskit.org/textbook/ch-algorithms/deutsch-jozsa.html\n",
    "\n",
    "***"
   ]
  },
  {
   "cell_type": "code",
   "execution_count": 1,
   "id": "dc70c470-53bd-4413-918d-2426c834b882",
   "metadata": {},
   "outputs": [],
   "source": [
    "# Qiskit \n",
    "import qiskit"
   ]
  },
  {
   "cell_type": "code",
   "execution_count": 2,
   "id": "6fc3b37c-f564-4e9a-a6a9-586dad231185",
   "metadata": {},
   "outputs": [],
   "source": [
    "# Aer simulator\n",
    "import qiskit.providers.aer as aer"
   ]
  },
  {
   "cell_type": "code",
   "execution_count": 3,
   "id": "4c066044-e86f-4450-8ade-d95ab2afc273",
   "metadata": {},
   "outputs": [],
   "source": [
    "# Diagrams\n",
    "import matplotlib.pyplot as plt"
   ]
  },
  {
   "cell_type": "code",
   "execution_count": 4,
   "id": "1465684c-a789-4336-bb5c-eba2ee968199",
   "metadata": {},
   "outputs": [],
   "source": [
    "# Change pyplot style\n",
    "plt.style.use('ggplot')"
   ]
  },
  {
   "cell_type": "markdown",
   "id": "e5fb7ae5-263c-4f44-877f-009c960ca7fa",
   "metadata": {},
   "source": [
    "<br>\n",
    "\n",
    "### Hadamard Gate\n",
    "\n",
    "***\n",
    "\n",
    "$ H = \\begin{bmatrix} \\frac{1}{\\sqrt{2}} & \\frac{1}{\\sqrt{2}} \\\\ \\frac{1}{\\sqrt{2}} & -\\frac{1}{\\sqrt{2}} \\end{bmatrix} = \\frac{1}{\\sqrt{2}} \\begin{bmatrix} 1 & 1 \\\\ 1 & -1 \\end{bmatrix}$\n",
    "\n",
    "$ H | 0 \\rangle = \\frac{1}{\\sqrt{2}} \\begin{bmatrix} 1 & 1 \\\\ 1 & -1 \\end{bmatrix} \\begin{bmatrix} 1 \\\\ 0 \\end{bmatrix} = \\frac{1}{\\sqrt{2}} \\begin{bmatrix} 1 \\\\ 1 \\end{bmatrix} =  \\begin{bmatrix} \\frac{1}{\\sqrt{2}} \\\\ \\frac{1}{\\sqrt{2}} \\end{bmatrix} = |+\\rangle $\n",
    "\n",
    "$ H | 1 \\rangle = \\frac{1}{\\sqrt{2}} \\begin{bmatrix} 1 & 1 \\\\ 1 & -1 \\end{bmatrix} \\begin{bmatrix} 0 \\\\ 1 \\end{bmatrix} = \\frac{1}{\\sqrt{2}} \\begin{bmatrix} 1 \\\\ -1 \\end{bmatrix} =  \\begin{bmatrix} \\frac{1}{\\sqrt{2}} \\\\ -\\frac{1}{\\sqrt{2}} \\end{bmatrix} = |-\\rangle $\n",
    "\n",
    "###### Identity \n",
    "$ I = \\begin{bmatrix} 1 & 0 \\\\ 0 & 1 \\end{bmatrix} $"
   ]
  },
  {
   "cell_type": "markdown",
   "id": "b510cf1f-965b-41f9-893c-36233c5384ea",
   "metadata": {},
   "source": [
    "<br>\n",
    "\n",
    "## Constant Zero Function\n",
    "\n",
    "***"
   ]
  },
  {
   "cell_type": "code",
   "execution_count": 5,
   "id": "57c4a3ad-7d79-4438-b4ac-4a52449a1cf3",
   "metadata": {},
   "outputs": [],
   "source": [
    "# Create a quantum circuit\n",
    "circuit = qiskit.QuantumCircuit(2, 1)"
   ]
  },
  {
   "cell_type": "code",
   "execution_count": 6,
   "id": "0276d405-5bd7-4dd1-aec8-d597733fc14e",
   "metadata": {},
   "outputs": [
    {
     "data": {
      "text/plain": [
       "<qiskit.circuit.instructionset.InstructionSet at 0x7f27b0da5760>"
      ]
     },
     "execution_count": 6,
     "metadata": {},
     "output_type": "execute_result"
    }
   ],
   "source": [
    "# Initialise the first qubit to 0 \n",
    "circuit.initialize([1,0], 0)"
   ]
  },
  {
   "cell_type": "code",
   "execution_count": 7,
   "id": "1b9e0ce9-1d2d-46d7-8b8b-6f5ad621f213",
   "metadata": {},
   "outputs": [
    {
     "data": {
      "text/plain": [
       "<qiskit.circuit.instructionset.InstructionSet at 0x7f27b0da53a0>"
      ]
     },
     "execution_count": 7,
     "metadata": {},
     "output_type": "execute_result"
    }
   ],
   "source": [
    "# Initialise the second qubit to 1\n",
    "circuit.initialize([0,1], 1)"
   ]
  },
  {
   "cell_type": "code",
   "execution_count": 8,
   "id": "759f6bad-222a-480b-8911-20835302463f",
   "metadata": {},
   "outputs": [
    {
     "data": {
      "text/plain": [
       "<qiskit.circuit.instructionset.InstructionSet at 0x7f27b0da5f10>"
      ]
     },
     "execution_count": 8,
     "metadata": {},
     "output_type": "execute_result"
    }
   ],
   "source": [
    "# Apply a Hadamard gate to first qubit\n",
    "circuit.h(0)"
   ]
  },
  {
   "cell_type": "code",
   "execution_count": 9,
   "id": "81f08bee-1e47-4ff1-b266-5a94defb4ac9",
   "metadata": {},
   "outputs": [
    {
     "data": {
      "text/plain": [
       "<qiskit.circuit.instructionset.InstructionSet at 0x7f27b0dca190>"
      ]
     },
     "execution_count": 9,
     "metadata": {},
     "output_type": "execute_result"
    }
   ],
   "source": [
    "# Apply a Hadamard gate to second qubit\n",
    "circuit.h(1)"
   ]
  },
  {
   "cell_type": "code",
   "execution_count": 10,
   "id": "eb8b2284-6c31-40c3-b3dd-41c1dddeadf0",
   "metadata": {},
   "outputs": [
    {
     "data": {
      "text/plain": [
       "<qiskit.circuit.instructionset.InstructionSet at 0x7f27b0dca040>"
      ]
     },
     "execution_count": 10,
     "metadata": {},
     "output_type": "execute_result"
    }
   ],
   "source": [
    "# Identity gate\n",
    "circuit.i(1)"
   ]
  },
  {
   "cell_type": "code",
   "execution_count": 11,
   "id": "2a64d847-40db-4010-b3ca-4a047589985f",
   "metadata": {},
   "outputs": [
    {
     "data": {
      "text/plain": [
       "<qiskit.circuit.instructionset.InstructionSet at 0x7f27b0dca670>"
      ]
     },
     "execution_count": 11,
     "metadata": {},
     "output_type": "execute_result"
    }
   ],
   "source": [
    "# Apply another Hadamard gate to the first qubit\n",
    "circuit.h(0)"
   ]
  },
  {
   "cell_type": "code",
   "execution_count": 12,
   "id": "f494ba90-676e-4d86-9b97-f68006695657",
   "metadata": {},
   "outputs": [
    {
     "data": {
      "text/plain": [
       "<qiskit.circuit.instructionset.InstructionSet at 0x7f2830096bb0>"
      ]
     },
     "execution_count": 12,
     "metadata": {},
     "output_type": "execute_result"
    }
   ],
   "source": [
    "# Measure the first qubit\n",
    "circuit.measure(0,0)"
   ]
  },
  {
   "cell_type": "code",
   "execution_count": 13,
   "id": "5fe007a1-4383-4310-a96c-2f68790f2e24",
   "metadata": {},
   "outputs": [
    {
     "data": {
      "image/png": "[encoded data removed]",
      "text/plain": [
       "<Figure size 589.054x368.424 with 1 Axes>"
      ]
     },
     "execution_count": 13,
     "metadata": {},
     "output_type": "execute_result"
    }
   ],
   "source": [
    "# Draw the circuit\n",
    "circuit.draw(output='mpl', scale=1.8)"
   ]
  },
  {
   "cell_type": "code",
   "execution_count": 14,
   "id": "cd3f6d6d-101b-451f-a6ac-f34837ec7809",
   "metadata": {},
   "outputs": [],
   "source": [
    "# Create a simulation instance\n",
    "simulator = aer.QasmSimulator()"
   ]
  },
  {
   "cell_type": "code",
   "execution_count": 15,
   "id": "5d6aab0c-5c51-4781-b803-a85610fd9ede",
   "metadata": {},
   "outputs": [],
   "source": [
    "# Compile the circuit in the simulator\n",
    "compcircuit = qiskit.transpile(circuit, simulator)"
   ]
  },
  {
   "cell_type": "code",
   "execution_count": 16,
   "id": "8c537b2c-adfc-4a46-ab2d-fc659c421c42",
   "metadata": {},
   "outputs": [],
   "source": [
    "# Simulate the circuit 1000 times\n",
    "job = simulator.run(compcircuit, shots=1000)"
   ]
  },
  {
   "cell_type": "code",
   "execution_count": 17,
   "id": "faf19240-f7f5-4bbd-b7de-8e177d1ea395",
   "metadata": {},
   "outputs": [],
   "source": [
    "# Get the results\n",
    "results = job.result()"
   ]
  },
  {
   "cell_type": "code",
   "execution_count": 18,
   "id": "c475fb00-0ab6-4731-b480-f3ae73312497",
   "metadata": {},
   "outputs": [
    {
     "data": {
      "text/plain": [
       "{'0': 1000}"
      ]
     },
     "execution_count": 18,
     "metadata": {},
     "output_type": "execute_result"
    }
   ],
   "source": [
    "# Show the result\n",
    "counts = results.get_counts()\n",
    "counts"
   ]
  },
  {
   "cell_type": "code",
   "execution_count": 19,
   "id": "671a54d0-d9b7-48c5-b69a-bc3e2d99337b",
   "metadata": {},
   "outputs": [
    {
     "data": {
      "image/png": "[encoded data removed]",
      "text/plain": [
       "<Figure size 72x288 with 1 Axes>"
      ]
     },
     "execution_count": 19,
     "metadata": {},
     "output_type": "execute_result"
    }
   ],
   "source": [
    "# Display histogram\n",
    "qiskit.visualization.plot_histogram(counts, figsize=(1, 4))"
   ]
  },
  {
   "cell_type": "markdown",
   "id": "c6eab4ac-bf5f-44cb-8d2a-ae39811a68cb",
   "metadata": {},
   "source": [
    "<br>\n",
    "\n",
    "## Constant one Function\n",
    "\n",
    "***"
   ]
  },
  {
   "cell_type": "code",
   "execution_count": 20,
   "id": "e6f7ab85-50d9-45f5-aa7c-3aa3f7e88d07",
   "metadata": {},
   "outputs": [
    {
     "data": {
      "image/png": "[encoded data removed]",
      "text/plain": [
       "<Figure size 589.054x368.424 with 1 Axes>"
      ]
     },
     "execution_count": 20,
     "metadata": {},
     "output_type": "execute_result"
    }
   ],
   "source": [
    "# Create a quantum circuit\n",
    "circuit = qiskit.QuantumCircuit(2, 1)\n",
    "\n",
    "# Initialise the first qubit to 0 \n",
    "circuit.initialize([1,0], 0)\n",
    "\n",
    "# Initialise the second qubit to 1\n",
    "circuit.initialize([0,1], 1)\n",
    "\n",
    "# Apply a Hadamard gate to each qubit\n",
    "circuit.h((0, 1))\n",
    "\n",
    "# X gate\n",
    "circuit.x(1)\n",
    "\n",
    "# Apply another Hadamard gate to the first qubit\n",
    "circuit.h(0)\n",
    "\n",
    "# Measure the first qubit\n",
    "circuit.measure(0,0)\n",
    "\n",
    "# Draw the circuit\n",
    "circuit.draw(output='mpl', scale=1.8)"
   ]
  },
  {
   "cell_type": "code",
   "execution_count": 21,
   "id": "dcc14169-363b-4847-be4d-fc169c348f84",
   "metadata": {},
   "outputs": [
    {
     "data": {
      "image/png": "[encoded data removed]",
      "text/plain": [
       "<Figure size 72x288 with 1 Axes>"
      ]
     },
     "execution_count": 21,
     "metadata": {},
     "output_type": "execute_result"
    }
   ],
   "source": [
    "# Create a simulation instance\n",
    "simulator = aer.QasmSimulator()\n",
    "\n",
    "# Compile the circuit in the simulator\n",
    "compcircuit = qiskit.transpile(circuit, simulator)\n",
    "\n",
    "# Simulate the circuit 1000 times\n",
    "job = simulator.run(compcircuit, shots=1000)\n",
    "\n",
    "# Get the results\n",
    "results = job.result()\n",
    "\n",
    "# Show the result\n",
    "counts = results.get_counts()\n",
    "\n",
    "# Display histogram\n",
    "qiskit.visualization.plot_histogram(counts, figsize=(1, 4))"
   ]
  },
  {
   "cell_type": "markdown",
   "id": "e4a6748a-dbc9-491e-9b2b-a78fab2c3ecb",
   "metadata": {},
   "source": [
    "<br> \n",
    "\n",
    "## Balanced: $f(0) = 0, f(1) = 1$\n",
    "\n",
    "***"
   ]
  },
  {
   "cell_type": "code",
   "execution_count": 22,
   "id": "147eab6f-8ea2-41cf-ac64-f03358ae6be5",
   "metadata": {},
   "outputs": [
    {
     "data": {
      "image/png": "[encoded data removed]",
      "text/plain": [
       "<Figure size 697.414x368.424 with 1 Axes>"
      ]
     },
     "execution_count": 22,
     "metadata": {},
     "output_type": "execute_result"
    }
   ],
   "source": [
    "# Create a quantum circuit\n",
    "circuit = qiskit.QuantumCircuit(2, 1)\n",
    "\n",
    "# Initialise the first qubit to 0 \n",
    "circuit.initialize([1,0], 0)\n",
    "\n",
    "# Initialise the second qubit to 1\n",
    "circuit.initialize([0,1], 1)\n",
    "\n",
    "# Apply a Hadamard gate to each qubit\n",
    "circuit.h((0, 1))\n",
    "\n",
    "# CNOT gate\n",
    "circuit.cnot(0, 1)\n",
    "\n",
    "# Apply another Hadamard gate to the first qubit\n",
    "circuit.h(0)\n",
    "\n",
    "# Measure the first qubit\n",
    "circuit.measure(0,0)\n",
    "\n",
    "# Draw the circuit\n",
    "circuit.draw(output='mpl', scale=1.8)"
   ]
  },
  {
   "cell_type": "code",
   "execution_count": 23,
   "id": "0c9399fe-ce23-47e5-8e90-0a8ad1aae8fb",
   "metadata": {},
   "outputs": [
    {
     "data": {
      "image/png": "[encoded data removed]",
      "text/plain": [
       "<Figure size 72x288 with 1 Axes>"
      ]
     },
     "execution_count": 23,
     "metadata": {},
     "output_type": "execute_result"
    }
   ],
   "source": [
    "# Create a simulation instance\n",
    "simulator = aer.QasmSimulator()\n",
    "\n",
    "# Compile the circuit in the simulator\n",
    "compcircuit = qiskit.transpile(circuit, simulator)\n",
    "\n",
    "# Simulate the circuit 1000 times\n",
    "job = simulator.run(compcircuit, shots=1000)\n",
    "\n",
    "# Get the results\n",
    "results = job.result()\n",
    "\n",
    "# Show the result\n",
    "counts = results.get_counts()\n",
    "\n",
    "# Display histogram\n",
    "qiskit.visualization.plot_histogram(counts, figsize=(1, 4))"
   ]
  },
  {
   "cell_type": "markdown",
   "id": "4ccff35d-7792-4622-9dd7-f84ed6c57937",
   "metadata": {},
   "source": [
    "<br> \n",
    "\n",
    "## Balanced: $f(0) = 1, f(1) = 0$\n",
    "\n",
    "***"
   ]
  },
  {
   "cell_type": "code",
   "execution_count": 24,
   "id": "0e91e399-3642-4cb1-8224-189c056e100d",
   "metadata": {},
   "outputs": [
    {
     "data": {
      "image/png": "[encoded data removed]",
      "text/plain": [
       "<Figure size 697.414x368.424 with 1 Axes>"
      ]
     },
     "execution_count": 24,
     "metadata": {},
     "output_type": "execute_result"
    }
   ],
   "source": [
    "# Create a quantum circuit\n",
    "circuit = qiskit.QuantumCircuit(2, 1)\n",
    "\n",
    "# Initialise the first qubit to 0 \n",
    "circuit.initialize([1,0], 0)\n",
    "\n",
    "# Initialise the second qubit to 1\n",
    "circuit.initialize([0,1], 1)\n",
    "\n",
    "# Apply a Hadamard gate to each qubit\n",
    "circuit.h((0, 1))\n",
    "\n",
    "# CNOT gate\n",
    "circuit.cnot(0, 1)\n",
    "\n",
    "# Apply x to second qubit\n",
    "circuit.x(1)\n",
    "\n",
    "# Apply another Hadamard gate to the first qubit\n",
    "circuit.h(0)\n",
    "\n",
    "# Measure the first qubit\n",
    "circuit.measure(0,0)\n",
    "\n",
    "# Draw the circuit\n",
    "circuit.draw(output='mpl', scale=1.8)"
   ]
  },
  {
   "cell_type": "code",
   "execution_count": 25,
   "id": "76fb3312-42d0-4ca0-8fbd-2549a2ec304d",
   "metadata": {},
   "outputs": [
    {
     "data": {
      "image/png": "[encoded data removed]",
      "text/plain": [
       "<Figure size 72x288 with 1 Axes>"
      ]
     },
     "execution_count": 25,
     "metadata": {},
     "output_type": "execute_result"
    }
   ],
   "source": [
    "# Create a simulation instance\n",
    "simulator = aer.QasmSimulator()\n",
    "\n",
    "# Compile the circuit in the simulator\n",
    "compcircuit = qiskit.transpile(circuit, simulator)\n",
    "\n",
    "# Simulate the circuit 1000 times\n",
    "job = simulator.run(compcircuit, shots=1000)\n",
    "\n",
    "# Get the results\n",
    "results = job.result()\n",
    "\n",
    "# Show the result\n",
    "counts = results.get_counts()\n",
    "\n",
    "# Display histogram\n",
    "qiskit.visualization.plot_histogram(counts, figsize=(1, 4))"
   ]
  },
  {
   "cell_type": "markdown",
   "id": "e12dee99-03b0-483e-9cf4-1ca210f4a141",
   "metadata": {},
   "source": [
    "### End \n",
    "\n",
    "***"
   ]
  }
 ],
 "metadata": {
  "kernelspec": {
   "display_name": "Python 3 (ipykernel)",
   "language": "python",
   "name": "python3"
  },
  "language_info": {
   "codemirror_mode": {
    "name": "ipython",
    "version": 3
   },
   "file_extension": ".py",
   "mimetype": "text/x-python",
   "name": "python",
   "nbconvert_exporter": "python",
   "pygments_lexer": "ipython3",
   "version": "3.9.7"
  }
 },
 "nbformat": 4,
 "nbformat_minor": 5
}
