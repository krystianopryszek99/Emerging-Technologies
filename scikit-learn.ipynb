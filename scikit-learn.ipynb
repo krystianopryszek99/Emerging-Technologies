{
 "cells": [
  {
   "cell_type": "markdown",
   "id": "3c887a32-abb5-4b37-87c6-9dc2ba09b936",
   "metadata": {},
   "source": [
    "# Scikit-learn\n",
    "\n",
    "This notebook contains a clear and consise overview of the [scikit-learn Python library](https://scikit-learn.org/stable/index.html)"
   ]
  },
  {
   "cell_type": "markdown",
   "id": "d28838eb-b2fa-48d8-8dd5-7440a71079cb",
   "metadata": {},
   "source": [
    "Scikit-learn is a Python library that provides a standard interface for supervised and unsupervised learning techniques.\n",
    "\n",
    "***"
   ]
  }
 ],
 "metadata": {
  "kernelspec": {
   "display_name": "Python 3",
   "language": "python",
   "name": "python3"
  },
  "language_info": {
   "codemirror_mode": {
    "name": "ipython",
    "version": 3
   },
   "file_extension": ".py",
   "mimetype": "text/x-python",
   "name": "python",
   "nbconvert_exporter": "python",
   "pygments_lexer": "ipython3",
   "version": "3.8.8"
  }
 },
 "nbformat": 4,
 "nbformat_minor": 5
}
