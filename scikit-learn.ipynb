{
 "cells": [
  {
   "cell_type": "markdown",
   "id": "355c40c3-668a-4a7c-a058-0dde87150692",
   "metadata": {},
   "source": [
    "# Scikit-learn\n",
    "\n",
    "This notebook contains a clear and consise overview of the [scikit-learn Python library](https://scikit-learn.org/stable/index.html)\n",
    "\n",
    "Scikit-learn is Python's most usable and robust machine learning library. It uses a Python consistency interface to give a set of fast tools for machine learning and statistical modeling, such as classification a regression.\n",
    "\n",
    "Scikit-learn is a Python library that provides a standard interface for [Supervised learning](https://en.wikipedia.org/wiki/Supervised_learning#:~:text=Supervised%20learning%20(SL)%20is%20the,on%20example%20input%2Doutput%20pairs.&text=In%20supervised%20learning%2C%20each%20example,also%20called%20the%20supervisory%20signal) and [Unsupervised learning](https://en.wikipedia.org/wiki/Unsupervised_learning)."
   ]
  },
  {
   "cell_type": "markdown",
   "id": "ea93937c-8994-4bbf-aad1-033fd10c232a",
   "metadata": {},
   "source": [
    "## Supervised learning\n",
    "\n",
    "A labeled dataset is used to train a supervised learning algorithm. A labeled data set has input and output parameters. The process of an algorithm learning from the training dataset may be thought of as a teacher supervising the learning process, it's termed supervised learning. \n",
    "\n",
    "Supervised learning is further grouped into <b>Regression</b> and <b>Classification</b>.\n",
    "\n",
    "<b>Regression:</b> Predicting the value of an object's continuous-valued attribute.\n",
    "\n",
    "<b>Classification:</b> Identifying the category to which an object belongs.\n",
    "\n",
    "more can be found on [scikit-learn](https://scikit-learn.org/stable/supervised_learning.html)."
   ]
  },
  {
   "cell_type": "markdown",
   "id": "ccfe2dba-b0c5-4823-87ed-cda4d75d595d",
   "metadata": {},
   "source": [
    "## Unsupervised learning.\n",
    "\n",
    "Unsupervised learning refers to a group of machine learning techniques that are used to discover patterns in data. Unsupervised algorithms are given not labelled data, which means that just the input variables are provided, with no matching output variables. In unsupervised learning, the algorithms are left to their own devices to find interesting patterns in the data.\n",
    "\n",
    "Supervised learning is further grouped into <b>Clustering</b> and <b>Dimensionality reduction</b>.\n",
    "\n",
    "<b>Clustering:</b> Objects that are related are automatically grouped into sets.\n",
    "\n",
    "<b>Dimensionality reduction:</b> Reducing the number of random variables that must be taken into account.\n",
    "\n",
    "more can be found [scikit-learn](https://scikit-learn.org/stable/unsupervised_learning.html)"
   ]
  },
  {
   "cell_type": "markdown",
   "id": "eba9373c-633c-4e1d-8915-e5ce05dbef13",
   "metadata": {},
   "source": [
    "## Difference between Supervised and Unsupervised Learning\n",
    "\n",
    "- <b>Supervised Learning</b>\n",
    "    -  Classification and Regression\n",
    "    - Used for prediction\n",
    "    - Input data is labelled\n",
    "    - Uses training dataset\n",
    "<br>  \n",
    "\n",
    "\n",
    "- <b>Unsupervised Learning</b>\n",
    "    - Clustering, dimensionality reduction etc\n",
    "    - Used for analysis\n",
    "    - Input data is not labelled\n",
    "    - Uses only input dataset"
   ]
  }
 ],
 "metadata": {
  "kernelspec": {
   "display_name": "Python 3",
   "language": "python",
   "name": "python3"
  },
  "language_info": {
   "codemirror_mode": {
    "name": "ipython",
    "version": 3
   },
   "file_extension": ".py",
   "mimetype": "text/x-python",
   "name": "python",
   "nbconvert_exporter": "python",
   "pygments_lexer": "ipython3",
   "version": "3.8.8"
  }
 },
 "nbformat": 4,
 "nbformat_minor": 5
}
